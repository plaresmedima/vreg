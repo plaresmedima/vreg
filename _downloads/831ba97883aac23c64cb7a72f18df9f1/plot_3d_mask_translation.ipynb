{
  "cells": [
    {
      "cell_type": "markdown",
      "metadata": {},
      "source": [
        "\n# 3D translation: image to mask\n\nThis example illustrates coregistration by 3D translation. The moving volume \nis a 3D magnetization transfer map and the static volume is a 3D mask covering \nboth kidneys. \n\nCoregistration is performed by brute force optimization using a mutual \ninformation metric. \n"
      ]
    },
    {
      "cell_type": "markdown",
      "metadata": {},
      "source": [
        "## Setup\n\n"
      ]
    },
    {
      "cell_type": "code",
      "execution_count": null,
      "metadata": {
        "collapsed": false
      },
      "outputs": [],
      "source": [
        "import numpy as np\nimport vreg\nimport vreg.plot as plt"
      ]
    },
    {
      "cell_type": "markdown",
      "metadata": {},
      "source": [
        "## Get data\n\n"
      ]
    },
    {
      "cell_type": "code",
      "execution_count": null,
      "metadata": {
        "collapsed": false
      },
      "outputs": [],
      "source": [
        "# Static oblique volumes\nlk = vreg.fetch('left_kidney')\nrk = vreg.fetch('right_kidney')\n\n# Moving volume\nmtr = vreg.fetch('MTR')\n\n# Geometrical reference\ndixon = vreg.fetch('Dixon_water')"
      ]
    },
    {
      "cell_type": "markdown",
      "metadata": {},
      "source": [
        "## Format data\nCreate a mask containing both kidneys (bk) with the geometry of the \ncomplete DIXON series\n\n"
      ]
    },
    {
      "cell_type": "code",
      "execution_count": null,
      "metadata": {
        "collapsed": false
      },
      "outputs": [],
      "source": [
        "bk = lk.slice_like(dixon).add(rk)"
      ]
    },
    {
      "cell_type": "markdown",
      "metadata": {},
      "source": [
        "## Bounding box\nExtract a bounding box to reduce the size of the volume. This is not \nnecessary but it speeds up the calculation a little as the volume is smaller.\n\n"
      ]
    },
    {
      "cell_type": "code",
      "execution_count": null,
      "metadata": {
        "collapsed": false
      },
      "outputs": [],
      "source": [
        "bk = bk.bounding_box()"
      ]
    },
    {
      "cell_type": "markdown",
      "metadata": {},
      "source": [
        "## Overlay data before registration\nIf we overlay the mask on the volume, we clearly see the misalignment due to \ndifferent breath holding positions:\n\n"
      ]
    },
    {
      "cell_type": "code",
      "execution_count": null,
      "metadata": {
        "collapsed": false
      },
      "outputs": [],
      "source": [
        "plt.overlay_2d(mtr, bk, title='Before 3D translation', \n               vmin=np.percentile(mtr.values, 10),\n               vmax=np.percentile(mtr.values, 99))"
      ]
    },
    {
      "cell_type": "markdown",
      "metadata": {},
      "source": [
        "## Coregister\n\nWe are coregistering using a 3D translation in the reference frame of the \nmoving volume. We are using a brute force optimization which is slow but \nrobust. We allow for translations between [-20, 20] mm in-slice, and \n[-5, 5] mm through-slice, in steps of 2mm.\n\n"
      ]
    },
    {
      "cell_type": "code",
      "execution_count": null,
      "metadata": {
        "collapsed": false
      },
      "outputs": [],
      "source": [
        "optimizer = {\n    'method': 'brute',\n    'grid': (\n        [-20, 20, 20],\n        [-20, 20, 20],\n        [-5, 5, 5],\n    ),\n}\nparams = mtr.find_translate_to(bk, optimizer=optimizer, coords='volume')\nmtr = mtr.translate(params, coords='volume')"
      ]
    },
    {
      "cell_type": "markdown",
      "metadata": {},
      "source": [
        "## Overlay data after registration\nIf we overlay the mask on the new volume, we can see that the misalignment \nis significantly reduced:\n\n"
      ]
    },
    {
      "cell_type": "code",
      "execution_count": null,
      "metadata": {
        "collapsed": false
      },
      "outputs": [],
      "source": [
        "plt.overlay_2d(mtr, bk, title='After 3D translation', \n               vmin=np.percentile(mtr.values, 10),\n               vmax=np.percentile(mtr.values, 99))"
      ]
    }
  ],
  "metadata": {
    "kernelspec": {
      "display_name": "Python 3",
      "language": "python",
      "name": "python3"
    },
    "language_info": {
      "codemirror_mode": {
        "name": "ipython",
        "version": 3
      },
      "file_extension": ".py",
      "mimetype": "text/x-python",
      "name": "python",
      "nbconvert_exporter": "python",
      "pygments_lexer": "ipython3",
      "version": "3.11.9"
    }
  },
  "nbformat": 4,
  "nbformat_minor": 0
}