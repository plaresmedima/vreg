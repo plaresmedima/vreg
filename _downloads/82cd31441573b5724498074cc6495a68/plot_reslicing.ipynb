{
  "cells": [
    {
      "cell_type": "markdown",
      "metadata": {},
      "source": [
        "\n# Coronal, sagittal, axial and oblique\n\nThis examples illustrates how vreg can be used to slice 3D volumes in \ndifferent ways.\n"
      ]
    },
    {
      "cell_type": "markdown",
      "metadata": {},
      "source": [
        "## Setup\n\n"
      ]
    },
    {
      "cell_type": "code",
      "execution_count": null,
      "metadata": {
        "collapsed": false
      },
      "outputs": [],
      "source": [
        "import numpy as np\nimport vreg\nimport vreg.plot as plt"
      ]
    },
    {
      "cell_type": "markdown",
      "metadata": {},
      "source": [
        "## Get data\nThe starting point of this example is a 3D coronal volume of the abdomen. \nFor visual reference we'll also load a 3D coronal mask of the kidneys.\n\n"
      ]
    },
    {
      "cell_type": "code",
      "execution_count": null,
      "metadata": {
        "collapsed": false
      },
      "outputs": [],
      "source": [
        "# 3D coronal volume of the abdomen\ncor = vreg.fetch('Dixon_out_phase')\n\n# 3D coronal mask of the kidneys\nmask = vreg.fetch('kidneys')\n\n# Show the data\nplt.overlay_2d(cor, mask, alpha=1.0, width=6)"
      ]
    },
    {
      "cell_type": "markdown",
      "metadata": {},
      "source": [
        "## Coronal -> Axial\nWe reslice the coronal volume in the axial plane using an isotropic 1mm \nvoxel size. Since 1mm is the default spacing, we do not have to specify it \nexplicitly.\n\n"
      ]
    },
    {
      "cell_type": "code",
      "execution_count": null,
      "metadata": {
        "collapsed": false
      },
      "outputs": [],
      "source": [
        "# Reslice isotropically in the axial plane\naxial = cor.reslice(orient='axial')\n\n# Show the result\nplt.overlay_2d(axial, mask, alpha=1.0, width=6)"
      ]
    },
    {
      "cell_type": "markdown",
      "metadata": {},
      "source": [
        "## Axial -> Sagittal\nSince vreg keeps track of the position in space, we can keep reslicing the \nresult. Let's reslice the axial volume sagitally:\n\n"
      ]
    },
    {
      "cell_type": "code",
      "execution_count": null,
      "metadata": {
        "collapsed": false
      },
      "outputs": [],
      "source": [
        "# Reslice isotropically in the sagittal plane\nsagit = axial.reslice(orient='sagittal')\n\n# Show the result\nplt.overlay_2d(sagit, mask, alpha=1.0, width=6)"
      ]
    },
    {
      "cell_type": "markdown",
      "metadata": {},
      "source": [
        "## Sagittal -> Coronal\nAs a consistency check, we can reslice the sagittal volume coronally again \nand check against the original  \n\n"
      ]
    },
    {
      "cell_type": "code",
      "execution_count": null,
      "metadata": {
        "collapsed": false
      },
      "outputs": [],
      "source": [
        "# Sagittal to coronal\ncor = sagit.reslice(orient='coronal')\n\n# Compare result to the original\nplt.overlay_2d(cor, mask, alpha=1.0, width=6)"
      ]
    },
    {
      "cell_type": "markdown",
      "metadata": {},
      "source": [
        "As expected, this looks visually the same as the original coronal image. \nThe number of slices is increased because this now has a 1mm isotropic voxel \nsize, whereas the original had 1.5mm slice thickness. \n\n"
      ]
    },
    {
      "cell_type": "markdown",
      "metadata": {},
      "source": [
        "## Oblique\nThe oblique orientation refers to any that is not in one of the standard \nplances (coronal, sagittal or axial). A volume can be reslice to any oblique \norientation by specifying a rotation vector.\n\nAs an example, let's reslice the coronal volume obliquely along the principle \naxis of the kidneys. The sagittal images shows that the kidneys make an \nangle of approximately 30 degrees with the vertical (z-axis). \n\nIf we reslice the coronal volume using a rotation of -30 degrees around \nthe x-axis, we get a coronal-oblique view through the kidneys:\n\n"
      ]
    },
    {
      "cell_type": "code",
      "execution_count": null,
      "metadata": {
        "collapsed": false
      },
      "outputs": [],
      "source": [
        "obl = cor.reslice(rotation=[-np.radians(30), 0, 0])\n\n# Show the oblique reslice:\nplt.overlay_2d(obl, mask, alpha=1.0, width=6)"
      ]
    },
    {
      "cell_type": "markdown",
      "metadata": {},
      "source": [
        "## Oblique in the sagittal plane\nThe oblique image above cuts along the natural axis of the kidneys. We \ncan verify this visually by looking at this oblique section in the sagittal \nplane:\n\n"
      ]
    },
    {
      "cell_type": "code",
      "execution_count": null,
      "metadata": {
        "collapsed": false
      },
      "outputs": [],
      "source": [
        "obl = cor.reslice(orient='sagittal', rotation=[-np.radians(30), 0, 0])\n\n# Show the sagittal-oblique view\nplt.overlay_2d(obl, mask, alpha=1.0, width=6)"
      ]
    }
  ],
  "metadata": {
    "kernelspec": {
      "display_name": "Python 3",
      "language": "python",
      "name": "python3"
    },
    "language_info": {
      "codemirror_mode": {
        "name": "ipython",
        "version": 3
      },
      "file_extension": ".py",
      "mimetype": "text/x-python",
      "name": "python",
      "nbconvert_exporter": "python",
      "pygments_lexer": "ipython3",
      "version": "3.11.9"
    }
  },
  "nbformat": 4,
  "nbformat_minor": 0
}