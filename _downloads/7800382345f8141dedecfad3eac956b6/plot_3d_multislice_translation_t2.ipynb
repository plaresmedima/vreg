{
  "cells": [
    {
      "cell_type": "markdown",
      "metadata": {},
      "source": [
        "\n# Multislice 2D to 3D translation (T2*)\n\nThis example illustrates 2D to 3D coregistration using 3D translations\n\nThe moving volume is an oblique multi-slice T2* map and the static volume is \na 3D coronal mask covering both kidneys. \n\nAn initial 3D translation is performed using both kidneys as a static target. \nIn a second step, fine tuning is done for each kidney separately.\n\nCoregistration is performed by brute force optimization using a \nmutual information metric.\n"
      ]
    },
    {
      "cell_type": "markdown",
      "metadata": {},
      "source": [
        "## Setup\n\n"
      ]
    },
    {
      "cell_type": "code",
      "execution_count": null,
      "metadata": {
        "collapsed": false
      },
      "outputs": [],
      "source": [
        "# Import packages\nimport vreg\nimport vreg.plot as plt\n\n\n# Get static volumes\nlk = vreg.fetch('left_kidney')\nrk = vreg.fetch('right_kidney')\n\n# get moving volumes\nmultislice = vreg.fetch('T2star')\n\n# Get geometrical reference\ndixon = vreg.fetch('Dixon_water')"
      ]
    },
    {
      "cell_type": "markdown",
      "metadata": {},
      "source": [
        "## Format data\nCreate a mask containing both kidneys (bk) with the geometry of the \ncomplete DIXON series\n\n"
      ]
    },
    {
      "cell_type": "code",
      "execution_count": null,
      "metadata": {
        "collapsed": false
      },
      "outputs": [],
      "source": [
        "bk = lk.slice_like(dixon).add(rk)"
      ]
    },
    {
      "cell_type": "markdown",
      "metadata": {},
      "source": [
        "Extract bounding boxes to reduce the size of the volume. This is not \nnecessary but it speeds up the calculation a little as the volume is smaller.\n\n"
      ]
    },
    {
      "cell_type": "code",
      "execution_count": null,
      "metadata": {
        "collapsed": false
      },
      "outputs": [],
      "source": [
        "bk = bk.bounding_box()\nlk = lk.bounding_box()\nrk = rk.bounding_box()"
      ]
    },
    {
      "cell_type": "markdown",
      "metadata": {},
      "source": [
        "If we overlay the mask on the volume, we clearly see the misalignment due to \ndifferent breath holding positions:\n\n"
      ]
    },
    {
      "cell_type": "code",
      "execution_count": null,
      "metadata": {
        "collapsed": false
      },
      "outputs": [],
      "source": [
        "plt.overlay_2d(multislice, bk)"
      ]
    },
    {
      "cell_type": "markdown",
      "metadata": {},
      "source": [
        "## Coregister to both kidneys\nIn a first step we coregister by 3D translation to both kidneys. Since the \nmoving data are multislice, we need to perform a coregistration for each \nslice separately. We perform brute force optimization allowing translations \nbetween [-20, 20] mm in-slice, and [-5, 5] mm through-slice, in steps of 2mm:\n\n"
      ]
    },
    {
      "cell_type": "code",
      "execution_count": null,
      "metadata": {
        "collapsed": false
      },
      "outputs": [],
      "source": [
        "# Optimizer settings\noptimizer = {\n    'method': 'brute',\n    'grid': (\n        [-20, 20, 20],\n        [-20, 20, 20],\n        [-5, 5, 5],\n    ), \n}\n# Translations are defined in volume coordinates\noptions = {\n    'coords':'volume', \n}\n# Perform the coregistration for each slice \nfor z, sz in enumerate(multislice):\n    tz = sz.find_translate_to(bk, optimizer=optimizer, **options)  \n    multislice[z] = sz.translate(tz, **options)"
      ]
    },
    {
      "cell_type": "markdown",
      "metadata": {},
      "source": [
        "If we overlay the mask on the new volume, we can see that the misalignment \nis significantly reduced but some imperfections still remain.\n\n"
      ]
    },
    {
      "cell_type": "code",
      "execution_count": null,
      "metadata": {
        "collapsed": false
      },
      "outputs": [],
      "source": [
        "plt.overlay_2d(multislice, bk)"
      ]
    },
    {
      "cell_type": "markdown",
      "metadata": {},
      "source": [
        "## Left kidney fine tuning\nWe now perform a rigid transformation to the left kidney to fine tune the \nalignment.\n\n"
      ]
    },
    {
      "cell_type": "code",
      "execution_count": null,
      "metadata": {
        "collapsed": false
      },
      "outputs": [],
      "source": [
        "# Try 10 translations between +/- 2mm in each directon\noptimizer['grid'] = 3*[[-2, 2, 10]]\n\n# Perform the fine tuning\nalign_lk = []\nfor z, sz in enumerate(multislice):\n    tz = sz.find_translate_to(lk, optimizer=optimizer, **options) \n    align_lk.append(sz.translate(tz, **options))"
      ]
    },
    {
      "cell_type": "markdown",
      "metadata": {},
      "source": [
        "Plot the result\n\n"
      ]
    },
    {
      "cell_type": "code",
      "execution_count": null,
      "metadata": {
        "collapsed": false
      },
      "outputs": [],
      "source": [
        "plt.overlay_2d(align_lk, lk,  title='Left kidney alignment')"
      ]
    },
    {
      "cell_type": "markdown",
      "metadata": {},
      "source": [
        "## Right kidney fine tuning\nRepeat the same steps for the right kidney\n\n"
      ]
    },
    {
      "cell_type": "code",
      "execution_count": null,
      "metadata": {
        "collapsed": false
      },
      "outputs": [],
      "source": [
        "align_rk = []\nfor z, sz in enumerate(multislice):\n    tz = sz.find_translate_to(rk, optimizer=optimizer, **options)\n    align_rk.append(sz.translate(tz, **options))"
      ]
    },
    {
      "cell_type": "markdown",
      "metadata": {},
      "source": [
        "Plot the result\n\n"
      ]
    },
    {
      "cell_type": "code",
      "execution_count": null,
      "metadata": {
        "collapsed": false
      },
      "outputs": [],
      "source": [
        "plt.overlay_2d(align_rk, rk,  title='Right kidney alignment')"
      ]
    }
  ],
  "metadata": {
    "kernelspec": {
      "display_name": "Python 3",
      "language": "python",
      "name": "python3"
    },
    "language_info": {
      "codemirror_mode": {
        "name": "ipython",
        "version": 3
      },
      "file_extension": ".py",
      "mimetype": "text/x-python",
      "name": "python",
      "nbconvert_exporter": "python",
      "pygments_lexer": "ipython3",
      "version": "3.11.9"
    }
  },
  "nbformat": 4,
  "nbformat_minor": 0
}