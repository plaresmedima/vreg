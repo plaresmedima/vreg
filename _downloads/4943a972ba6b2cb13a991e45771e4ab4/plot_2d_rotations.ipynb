{
  "cells": [
    {
      "cell_type": "markdown",
      "metadata": {},
      "source": [
        "\n# In-slice rotations\n\nThis example illustrates some of the basic ideas underlying affine \ntransformations using in-slice rotations.\n"
      ]
    },
    {
      "cell_type": "markdown",
      "metadata": {},
      "source": [
        "## Setup\n\n"
      ]
    },
    {
      "cell_type": "code",
      "execution_count": null,
      "metadata": {
        "collapsed": false
      },
      "outputs": [],
      "source": [
        "import numpy as np\nimport vreg\nimport vreg.plot as plt"
      ]
    },
    {
      "cell_type": "markdown",
      "metadata": {},
      "source": [
        "## Get data\nFor this illustration we are using coronal images and masks. The mask is \nstatic throughout and used as a reference to show the effect of the \nrotations:\n\n"
      ]
    },
    {
      "cell_type": "code",
      "execution_count": null,
      "metadata": {
        "collapsed": false
      },
      "outputs": [],
      "source": [
        "# Coronal images\nimg = vreg.fetch('Dixon_out_phase')\n\n# Take out one slice (z=100) for clarity\nimg = img.extract_slice(100)\n\n# Left kidney mask\nmask = vreg.fetch('left_kidney')"
      ]
    },
    {
      "cell_type": "markdown",
      "metadata": {},
      "source": [
        "## Display data\nWithout rotations, the mask aligns with the image:\n\n"
      ]
    },
    {
      "cell_type": "code",
      "execution_count": null,
      "metadata": {
        "collapsed": false
      },
      "outputs": [],
      "source": [
        "plt.overlay_2d(img, mask)"
      ]
    },
    {
      "cell_type": "markdown",
      "metadata": {},
      "source": [
        "## A rotation\nLet's rotate the image over an angle of 30 degrees, clockwise, around an axis \nperpendicular to the slice. This idea is easiest to express when we use \na coordinate system defined by the image's axes. \n\n"
      ]
    },
    {
      "cell_type": "code",
      "execution_count": null,
      "metadata": {
        "collapsed": false
      },
      "outputs": [],
      "source": [
        "# Define the coordinate system\ncoords = img.affine\n\n# Define the rotation vector in image coordinates\nvec = [0, 0, np.radians(30)]\n\n# Perform the rotation\nrot = img.rotate(vec, coords=coords)\n\n# Check the result\nplt.overlay_2d(rot, mask)"
      ]
    },
    {
      "cell_type": "markdown",
      "metadata": {},
      "source": [
        "## Direction of rotation\nNote that while it appears we have rotated the mask counter clockwise, \nwe have in fact rotated the image clockwise. However, since we use the image \nas visual reference here, it appears static. \n\nA positive angle has created a clockwise rotation here because the volume's \nreference frame has an x-axis pointing along the rows from left to right,\nand the y-axis is pointing along the columns from top to bottom. Using the \nright-hand rule the z-axis therefore points into the screen. \n\nPlacing the thumb of the right hand along the z-axis, the fingers curl in \nthe clockwise direction, which is the direction corresponding to positive \nangles. \n\n"
      ]
    },
    {
      "cell_type": "markdown",
      "metadata": {},
      "source": [
        "## Center of rotation\nSince we have not specified a rotation center, the rotation was performed \naround the origin of the volume's reference frame, which is the top \nleft-hand corner in this image. If we want a different rotation center, \nwe can specify that in the call to the rotation function.\n\nLet's perform this rotation again, but now rotating around the center of \nmass of the left kidney. Since the rotation vector is expressed in the \ncoordinate system of the image, we must do the same for the rotation center.\n\n"
      ]
    },
    {
      "cell_type": "code",
      "execution_count": null,
      "metadata": {
        "collapsed": false
      },
      "outputs": [],
      "source": [
        "# Find the center of mass\ncenter = mask.center_of_mass(coords)\n\n# Perform the rotation\nrot = img.rotate(vec, center, coords=coords)\n\n# Check the result\nplt.overlay_2d(rot, mask)"
      ]
    },
    {
      "cell_type": "markdown",
      "metadata": {},
      "source": [
        "## Rotating values\nThe rotated image looks exactly the same as the original image because \nby default ``vreg`` does not modify the values. Instead it rotates the affine \nmatrix which specifies where the values exist in space. \n\nHowever, it is possible to rotate the values instead by setting the *values*\nflag to True.\n\n"
      ]
    },
    {
      "cell_type": "code",
      "execution_count": null,
      "metadata": {
        "collapsed": false
      },
      "outputs": [],
      "source": [
        "# Rotate the values instead of the affine\nrot = img.rotate(vec, center, coords=coords, values=True)\n\n# Check the result\nplt.overlay_2d(rot, mask)"
      ]
    },
    {
      "cell_type": "markdown",
      "metadata": {},
      "source": [
        "## Reshaping\nSince the values have been rotated and the affine has stayed the same, the \nimage now appears rotated with a static mask, but some of the values have\nhave been lost because the shape of the value array stays the same by \ndefault.\n\nWe can fix this by setting the *reshape* flag to True, which will increase \nthe field of view to preserve all image values.\n\n"
      ]
    },
    {
      "cell_type": "code",
      "execution_count": null,
      "metadata": {
        "collapsed": false
      },
      "outputs": [],
      "source": [
        "# Rotate values and reshape\nrot = img.rotate(vec, center, coords=coords, values=True, reshape=True)\n\n# Check the result\nplt.overlay_2d(rot, mask)"
      ]
    },
    {
      "cell_type": "markdown",
      "metadata": {},
      "source": [
        "## Affine versus values\nAs the image shows, the reshaping option has now preserved all values by \nenlarging the value array, but the problem remains that many pixels have \nhad to be zero-filled in order to create a rectangular value array.\n\nThis example illustrates why rotating the affine instead of the values is \ngenerally preferred. It does not come with a need to interpolate or modify \nthe values, or fill parts of the image with values that do not properly \ndescribe the object. \n\nRotating the affine retains the values exactly \nas they are, and just assigns them a different location in space. \n\n"
      ]
    },
    {
      "cell_type": "markdown",
      "metadata": {},
      "source": [
        "## Active versus passive rotations\nThe examples above all performed **active** rotations: they physically rotated \nthe image away from it's original position, creating a misalignment with the \noriginal kidney mask. \n\nAn alternative way of looking at a rotation is to reslice the image at a \nrotated angle, without actually changing it's position in space. This is a \n**passive** rotation. The effect on the values is the same as an active \nrotation in the opposite sense, but since it does not change where the \nvalues are, it merely provides and alternative picture of the same volume. \n\nLet's perform the above rotation again, but now passively using it only to \nreslice the values. We use the oppositive sign of the rotation vector to get\na comparable result as before:\n\n"
      ]
    },
    {
      "cell_type": "code",
      "execution_count": null,
      "metadata": {
        "collapsed": false
      },
      "outputs": [],
      "source": [
        "# Perform a passive rotation (aka reslice the volume)\nrot = img.reslice(rotation=-np.array(vec), center=center, coords=coords)\n\n# Check the result\nplt.overlay_2d(rot, mask)"
      ]
    },
    {
      "cell_type": "markdown",
      "metadata": {},
      "source": [
        "The rotated image looks exactly the same as in the previous example, \nbut in this case the kidney mask is still in the same place. This is because\nthe volume has not actually been rotated in space - it has merely been \nresliced at an angle so we see it in a different plane.\n\n"
      ]
    }
  ],
  "metadata": {
    "kernelspec": {
      "display_name": "Python 3",
      "language": "python",
      "name": "python3"
    },
    "language_info": {
      "codemirror_mode": {
        "name": "ipython",
        "version": 3
      },
      "file_extension": ".py",
      "mimetype": "text/x-python",
      "name": "python",
      "nbconvert_exporter": "python",
      "pygments_lexer": "ipython3",
      "version": "3.11.9"
    }
  },
  "nbformat": 4,
  "nbformat_minor": 0
}